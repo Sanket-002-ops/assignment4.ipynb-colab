{
  "nbformat": 4,
  "nbformat_minor": 0,
  "metadata": {
    "colab": {
      "provenance": []
    },
    "kernelspec": {
      "name": "python3",
      "display_name": "Python 3"
    },
    "language_info": {
      "name": "python"
    }
  },
  "cells": [
    {
      "cell_type": "code",
      "execution_count": null,
      "metadata": {
        "id": "Z5kaq6oHUnxT"
      },
      "outputs": [],
      "source": [
        "# Question1: What is difference between a function and a method in python?"
      ]
    },
    {
      "cell_type": "markdown",
      "source": [
        "\n",
        "\n",
        "1.   Function are imdependent blocks of code that can be called from anywhere.\n",
        "     Functions are useful for breaking programs into smaller, reusable chunks.\n",
        "Function is block of code which  perform some specific  task or computation.\n",
        "2.   Functions that are associated with an object or class. Methods are accessed using dot notation and must be called on an object or within a class.\n",
        "Methods  offer behavior  specific to objects"
      ],
      "metadata": {
        "id": "KL1_-FtEVDLD"
      }
    },
    {
      "cell_type": "code",
      "source": [
        "\n",
        "# function example\n",
        "def sum (a,b):\n",
        "    s = a + b\n",
        "    return s\n",
        "print (sum(2,3))"
      ],
      "metadata": {
        "colab": {
          "base_uri": "https://localhost:8080/"
        },
        "id": "dqreNM_uccEm",
        "outputId": "66574022-9b20-4fb5-da5f-10c5849f2f2e"
      },
      "execution_count": null,
      "outputs": [
        {
          "output_type": "stream",
          "name": "stdout",
          "text": [
            "5\n"
          ]
        }
      ]
    },
    {
      "cell_type": "code",
      "source": [
        "print(sum(5,7))"
      ],
      "metadata": {
        "colab": {
          "base_uri": "https://localhost:8080/"
        },
        "id": "EM6Kvq3PdPZm",
        "outputId": "c89fd3b8-85b6-4e51-8ed6-eafb43fff609"
      },
      "execution_count": null,
      "outputs": [
        {
          "output_type": "stream",
          "name": "stdout",
          "text": [
            "12\n"
          ]
        }
      ]
    },
    {
      "cell_type": "code",
      "source": [
        "print(sum(9,15))"
      ],
      "metadata": {
        "colab": {
          "base_uri": "https://localhost:8080/"
        },
        "id": "hJhRgehodXwF",
        "outputId": "ad178787-8145-45d4-df45-374c9aa669e5"
      },
      "execution_count": null,
      "outputs": [
        {
          "output_type": "stream",
          "name": "stdout",
          "text": [
            "24\n"
          ]
        }
      ]
    },
    {
      "cell_type": "code",
      "source": [
        "#Question2: Explain  the concept  of function argument and parameters in python."
      ],
      "metadata": {
        "id": "6xpLEdtnevhF"
      },
      "execution_count": null,
      "outputs": []
    },
    {
      "cell_type": "markdown",
      "source": [
        "\n",
        "\n",
        "1.   A functions parameters are the variables listed in the function.Its defiend within the parentheses during function definition\n",
        "2.   An function argument is the value that is sent to the function when it is called. Function  arguments  are the real values passed to (and received by) the function."
      ],
      "metadata": {
        "id": "15keuatwiViZ"
      }
    },
    {
      "cell_type": "code",
      "source": [
        "# Here a,b are the parameters\n",
        "def sum(a,b):\n",
        "  print(a+b)\n",
        "sum(1,2)"
      ],
      "metadata": {
        "colab": {
          "base_uri": "https://localhost:8080/"
        },
        "id": "MZs6aYq9oOmu",
        "outputId": "21bada06-37c9-42cb-8960-c1bcb8da6c3b"
      },
      "execution_count": null,
      "outputs": [
        {
          "output_type": "stream",
          "name": "stdout",
          "text": [
            "3\n"
          ]
        }
      ]
    },
    {
      "cell_type": "code",
      "source": [
        "def sum(a,b):\n",
        "  print(a+b)\n",
        "#Here the values 1,2 are arguments\n",
        "sum(1,2)"
      ],
      "metadata": {
        "colab": {
          "base_uri": "https://localhost:8080/"
        },
        "id": "1rgY7F6Rosoy",
        "outputId": "bd813686-453c-4865-ee60-23ce93031225"
      },
      "execution_count": null,
      "outputs": [
        {
          "output_type": "stream",
          "name": "stdout",
          "text": [
            "3\n"
          ]
        }
      ]
    },
    {
      "cell_type": "code",
      "source": [
        "#Question3: What are the different ways to define and call a function in python?"
      ],
      "metadata": {
        "id": "TWGng7B_otED"
      },
      "execution_count": null,
      "outputs": []
    },
    {
      "cell_type": "markdown",
      "source": [
        "\n",
        "\n",
        "1.   In python, we define a function with the def keywords, then write the function identifier(name) followed by parentheses and a colon.\n",
        "The next thing we have to do is make sure you indent with a tab or 4 spaces, and then specify what you want the function to do for us.\n",
        "\n"
      ],
      "metadata": {
        "id": "uh1iY0JrqU0A"
      }
    },
    {
      "cell_type": "code",
      "source": [
        "#using a print statement\n",
        "def subtract_num():\n",
        "  print(34-4)\n",
        "subtract_num()"
      ],
      "metadata": {
        "colab": {
          "base_uri": "https://localhost:8080/"
        },
        "id": "OCdIWjprpPwt",
        "outputId": "c7fa7fce-30e2-4e54-84a3-efc412fefd14"
      },
      "execution_count": null,
      "outputs": [
        {
          "output_type": "stream",
          "name": "stdout",
          "text": [
            "30\n"
          ]
        }
      ]
    },
    {
      "cell_type": "code",
      "source": [
        "# using a return statement\n",
        "def subtract_num():\n",
        "  return 34-4\n",
        "subtract_num()"
      ],
      "metadata": {
        "colab": {
          "base_uri": "https://localhost:8080/"
        },
        "id": "XTw3FhNupPtN",
        "outputId": "cfdb3bee-401a-4982-d7f8-89d6fc42cb8a"
      },
      "execution_count": null,
      "outputs": [
        {
          "output_type": "execute_result",
          "data": {
            "text/plain": [
              "30"
            ]
          },
          "metadata": {},
          "execution_count": 14
        }
      ]
    },
    {
      "cell_type": "code",
      "source": [
        "#Question4: What is the purpose of the return statement in a python function?"
      ],
      "metadata": {
        "id": "OMMqQzBapPi3"
      },
      "execution_count": null,
      "outputs": []
    },
    {
      "cell_type": "markdown",
      "source": [
        "\n",
        "\n",
        "*   The purpose of return statement in python function is:\n",
        "*   The python return statement marks the end of a function and specifies the value or values to pass back from the function. Return statement can return data of any type, including integers, floats, strings, lists, dictionaries, and even other functions.The return statement ends theexcution of a function, and return control to the calling function.\n",
        "\n",
        "\n",
        "\n"
      ],
      "metadata": {
        "id": "rRJ4HCLRwbY5"
      }
    },
    {
      "cell_type": "code",
      "source": [
        "#python program to demonstrate return statement\n",
        "def add(a,b):\n",
        "  #returning sum of a and b\n",
        "  return a+b\n",
        "def is_True(a):\n",
        "  #returning boolean of a\n",
        "  return bool(a)\n",
        "#calling function\n",
        "res = add(2,3)\n",
        "print(\"Result of add function is {}\".format(res))\n",
        "res = is_True(2<5)\n",
        "print(\"\\nResult of is_True function is {}\". format(res))"
      ],
      "metadata": {
        "colab": {
          "base_uri": "https://localhost:8080/"
        },
        "id": "yCrjmB4gpPdr",
        "outputId": "349e01bc-4847-42bb-d0ba-12b72b011bfa"
      },
      "execution_count": null,
      "outputs": [
        {
          "output_type": "stream",
          "name": "stdout",
          "text": [
            "Result of add function is 5\n",
            "\n",
            "Result of is_True function is True\n"
          ]
        }
      ]
    },
    {
      "cell_type": "code",
      "source": [
        "#Question5: What are iterator in python and how do they differ from iterables?"
      ],
      "metadata": {
        "id": "1DYbndhf0YaG"
      },
      "execution_count": null,
      "outputs": []
    },
    {
      "cell_type": "markdown",
      "source": [
        "\n",
        "*   An iterator is an object repersenting a stream of data >>return the data one by one.\n",
        "\n",
        "*   iterable is an odject, that one can iterate over. It genrates an iterator when passed to iter(). method. An iterator is an odject, which is used to iterate over an iterable object using the _next_(). method. Iterator have the _next_() method, which returns the next item of the object.  \n",
        "*   Every iterator is also an iterable, but not every iterable is an iterator in python\n",
        "\n",
        "\n",
        "\n"
      ],
      "metadata": {
        "id": "96MJ2-wh07rQ"
      }
    },
    {
      "cell_type": "code",
      "source": [
        "#code\n",
        "s = [\"Ajay sir\",\"thank you\",\"so much\"]\n",
        "s = iter(s)\n",
        "print(s)"
      ],
      "metadata": {
        "colab": {
          "base_uri": "https://localhost:8080/"
        },
        "id": "I-_JuxqI0Yqv",
        "outputId": "5d2e6cad-db6b-41b4-b250-05041164563c"
      },
      "execution_count": null,
      "outputs": [
        {
          "output_type": "stream",
          "name": "stdout",
          "text": [
            "<list_iterator object at 0x7c8919e144c0>\n"
          ]
        }
      ]
    },
    {
      "cell_type": "code",
      "source": [
        "print(next(s))\n",
        "print(next(s))\n",
        "print(next(s))\n"
      ],
      "metadata": {
        "colab": {
          "base_uri": "https://localhost:8080/"
        },
        "id": "tAVIXSDy0Y4U",
        "outputId": "32bb0b62-1e11-4c72-ca16-040a8eeb43ec"
      },
      "execution_count": null,
      "outputs": [
        {
          "output_type": "stream",
          "name": "stdout",
          "text": [
            "Ajay sir\n",
            "thank you\n",
            "so much\n"
          ]
        }
      ]
    },
    {
      "cell_type": "code",
      "source": [
        "#Question6: Explain the concept of generators in python and how they are defined."
      ],
      "metadata": {
        "id": "5pOVjgAd5ate"
      },
      "execution_count": null,
      "outputs": []
    },
    {
      "cell_type": "markdown",
      "source": [
        "\n",
        "\n",
        "*   In python, a generator is a function that returns an iterator that produces a sequence of values when iterated over.Generators are useful when we want to prodece a large sequence of values, but we don't want to store all of them in memory at once.\n",
        "\n",
        "\n"
      ],
      "metadata": {
        "id": "ohGNtXk059n5"
      }
    },
    {
      "cell_type": "code",
      "source": [
        "def fib (limit):\n",
        "  a,b = 0,1\n",
        "  while b < limit:\n",
        "    yield b\n",
        "    a, b = b,a + b\n",
        "# Create a generator object\n",
        "x = fib(200)\n",
        "# Iterate over the generator object and print each value\n",
        "for i in x:\n",
        "  print(i)"
      ],
      "metadata": {
        "colab": {
          "base_uri": "https://localhost:8080/"
        },
        "id": "uSwDqyA45ahv",
        "outputId": "6d257c71-25fc-4138-d57c-be0e30814984"
      },
      "execution_count": null,
      "outputs": [
        {
          "output_type": "stream",
          "name": "stdout",
          "text": [
            "1\n",
            "1\n",
            "2\n",
            "3\n",
            "5\n",
            "8\n",
            "13\n",
            "21\n",
            "34\n",
            "55\n",
            "89\n",
            "144\n"
          ]
        }
      ]
    },
    {
      "cell_type": "code",
      "source": [
        "#Question7: What are the advantages of using generator over regular functions?"
      ],
      "metadata": {
        "id": "s8dfyvWa5aUf"
      },
      "execution_count": null,
      "outputs": []
    },
    {
      "cell_type": "markdown",
      "source": [
        "\n",
        "\n",
        "*   Generators have several advantages over regular functions, including:\n",
        "*   Memory efficiency:\n",
        "  Generators only generate values when needed, so they don't need to store all values in memory at once. This makes them especially useful when working with large datasets or infinite sequences.\n",
        "\n",
        "*   Improved performance:\n",
        "  Generators can be faster than regular loops because they avoid the overhead of creating a list or other data structure to store the results.\n",
        "\n",
        "*   Readability:\n",
        "  Generators can make code easier to read and understand by breaking up the iteration process into smaller chunks.\n",
        "*   Composability:\n",
        "  Generators can be easily composed to create new generators, enabling powerful data processing pipelines. This allows for modular and reusable code.\n",
        "\n",
        "\n",
        "*   Simplification:\n",
        "   Generators simplify code for iterating over datasets without explicitly requiring state management.\n",
        "\n"
      ],
      "metadata": {
        "id": "p3z8-zcTAx_1"
      }
    },
    {
      "cell_type": "code",
      "source": [
        "#Question8: What is lambda function in python and when it is typically used?"
      ],
      "metadata": {
        "id": "yfrfALoD5aGM"
      },
      "execution_count": null,
      "outputs": []
    },
    {
      "cell_type": "markdown",
      "source": [
        "\n",
        "\n",
        "*   A lambda function in Python is a small, anonymous function that's used for short, one-time operations:\n",
        "\n",
        "*   Definition\n",
        "A lambda function is defined using the lambda keyword and evaluates a single expression in a single line of code. The syntax for a lambda function is lambda arguments: expression.\n",
        "\n",
        "*   Use cases\n",
        "Lambda functions are often used for:\n",
        "Small operations: When a full function definition would be too cumbersome\n",
        "One-off operations: When you don't need to name the function because it's only used once\n",
        "Functional programming: When passed as arguments to higher-order functions like map(), filter(), and reduce()\n",
        "\n",
        "*   Examples\n",
        "Lambda functions can be used for:\n",
        "Normalizing data\n",
        "Filtering outliers from data\n",
        "Performing operations on columns.\n",
        "\n"
      ],
      "metadata": {
        "id": "U1OwzryOEJoT"
      }
    },
    {
      "cell_type": "code",
      "source": [
        "str1 = \"Ajay kumar gupta sir\"\n",
        "\n",
        "upper = lambda string: string.upper()\n",
        "print(upper(str1))"
      ],
      "metadata": {
        "colab": {
          "base_uri": "https://localhost:8080/"
        },
        "id": "wNvw6iJ05Z2P",
        "outputId": "f9c7eea5-05a6-4886-e04d-c550201b602b"
      },
      "execution_count": null,
      "outputs": [
        {
          "output_type": "stream",
          "name": "stdout",
          "text": [
            "AJAY KUMAR GUPTA SIR\n"
          ]
        }
      ]
    },
    {
      "cell_type": "code",
      "source": [
        "#Condition Checking Using Python lambda function\n",
        "format_numeric = lambda num: f\"{num:e}\" if isinstance(num, int) else f\"{num:,.2f}\"\n",
        "\n",
        "print(\"Int formatting:\", format_numeric(1000000))\n",
        "print(\"float formatting:\", format_numeric(999999.789541235))"
      ],
      "metadata": {
        "colab": {
          "base_uri": "https://localhost:8080/"
        },
        "id": "NLHIYY74FS_S",
        "outputId": "4b3c55d4-4044-4842-e3b5-10c0a5c5e9e6"
      },
      "execution_count": null,
      "outputs": [
        {
          "output_type": "stream",
          "name": "stdout",
          "text": [
            "Int formatting: 1.000000e+06\n",
            "float formatting: 999,999.79\n"
          ]
        }
      ]
    },
    {
      "cell_type": "code",
      "source": [
        "#Question9: Explain the purpose and use of the map() function in python."
      ],
      "metadata": {
        "id": "YxVgFyxSFlf1"
      },
      "execution_count": null,
      "outputs": []
    },
    {
      "cell_type": "markdown",
      "source": [
        "\n",
        "*   The map() function is used to apply a given function to every item of an iterable, such as a list or tuple, and returns a map object (which is an iterator). This is useful for simplifying our code and making it more readable when applying an operation to all element.\n",
        "\n"
      ],
      "metadata": {
        "id": "9pNOsz1EGIna"
      }
    },
    {
      "cell_type": "code",
      "source": [
        "s = ['1', '2', '3', '4']\n",
        "res = map(int, s)\n",
        "print(list(res))"
      ],
      "metadata": {
        "colab": {
          "base_uri": "https://localhost:8080/"
        },
        "id": "yijhGlxGFlkW",
        "outputId": "7b33707f-9dd8-4d3e-f8b4-85997f1b23e0"
      },
      "execution_count": null,
      "outputs": [
        {
          "output_type": "stream",
          "name": "stdout",
          "text": [
            "[1, 2, 3, 4]\n"
          ]
        }
      ]
    },
    {
      "cell_type": "code",
      "source": [
        "a = [1, 2, 3, 4]\n",
        "\n",
        "# Using custom function in \"function\" parameter\n",
        "# This function is simply doubles the provided number\n",
        "def double(val):\n",
        "  return val*2\n",
        "\n",
        "res = list(map(double, a))\n",
        "print(res)"
      ],
      "metadata": {
        "colab": {
          "base_uri": "https://localhost:8080/"
        },
        "id": "TjFwh-KsFlo9",
        "outputId": "778ff125-166a-4548-83ca-830ced73b465"
      },
      "execution_count": null,
      "outputs": [
        {
          "output_type": "stream",
          "name": "stdout",
          "text": [
            "[2, 4, 6, 8]\n"
          ]
        }
      ]
    },
    {
      "cell_type": "code",
      "source": [
        "#Question10: What is the difference between map(), reduce(), and filter() function in python?"
      ],
      "metadata": {
        "id": "zQOLltO7Fltb"
      },
      "execution_count": null,
      "outputs": []
    },
    {
      "cell_type": "markdown",
      "source": [
        "\n",
        "\n",
        "*    We will study Map, Reduce, and Filter Operations in Python. These three operations are paradigms of functional programming. They allow one to write simpler, shorter code\n",
        "\n",
        "*   Map Function in Python:\n",
        "The map () function returns a map object(which is an iterator) of the results after applying the given function to each item of a given iterable (list, tuple, etc.).                                                              Syntax: map(fun, iter)\n",
        "\n",
        "*   Reduce Function in Python:\n",
        "The reduce function is used to apply a particular function passed in its argument to all of the list elements mentioned in the sequence passed along.This function is defined in “functools” module.\n",
        "\n",
        "Syntax: reduce(func, iterable[, initial])\n",
        "\n",
        "\n",
        "*   Filter Function in Python\n",
        "The filter() method filters the given sequence with the help of a function that tests each element in the sequence to be true or not.\n",
        "\n",
        "Syntax: filter(function, sequence)\n",
        "\n"
      ],
      "metadata": {
        "id": "Zmgak6-FIF_S"
      }
    },
    {
      "cell_type": "code",
      "source": [
        "#Question11: Using pen and paper write the internal mechanism for sum operation using reduced function on this given list:[47,11,42,13]\n",
        "# importing functools for reduce()\n",
        "import functools\n",
        "\n",
        "# initializing list\n",
        "lis = [47,11,42,13]\n",
        "\n",
        "# using reduce to compute sum of list\n",
        "print(\"The sum of the list elements is : \", end=\"\")\n",
        "print(functools.reduce(lambda a, b: a+b, lis))"
      ],
      "metadata": {
        "id": "pmbZGVfpFlxi",
        "colab": {
          "base_uri": "https://localhost:8080/"
        },
        "outputId": "599cc6be-8905-4763-eaf5-f511d1777366"
      },
      "execution_count": null,
      "outputs": [
        {
          "output_type": "stream",
          "name": "stdout",
          "text": [
            "The sum of the list elements is : 113\n"
          ]
        }
      ]
    },
    {
      "cell_type": "markdown",
      "source": [
        "##***Practical Question***"
      ],
      "metadata": {
        "id": "3V59wFwsUMmm"
      }
    },
    {
      "cell_type": "code",
      "source": [
        "#Question1: Write a python function that takes a list of numbers as input and returns the sum of all even number in the list.\n",
        "def even_sum(numbers):\n",
        "  sum = 0\n",
        "  for n in numbers:\n",
        "    if n%2==0:\n",
        "      sum=sum+n\n",
        "  return sum"
      ],
      "metadata": {
        "id": "_sMC9y7rFl1O"
      },
      "execution_count": null,
      "outputs": []
    },
    {
      "cell_type": "code",
      "source": [
        "even_sum([1,2,3,4,5,6,7,8,9,10,11,12,13,14,15,16,17,18,19,20,21,22,23,24,25,26,27,28,29,30])"
      ],
      "metadata": {
        "colab": {
          "base_uri": "https://localhost:8080/"
        },
        "id": "xzB3F2cQYzlf",
        "outputId": "7ce1c724-44d0-4d99-d689-9d661ccd422f"
      },
      "execution_count": null,
      "outputs": [
        {
          "output_type": "execute_result",
          "data": {
            "text/plain": [
              "240"
            ]
          },
          "metadata": {},
          "execution_count": 51
        }
      ]
    },
    {
      "cell_type": "code",
      "source": [
        "#Question2: Create a python function that accepts a string and returns the reverse of that string."
      ],
      "metadata": {
        "id": "RphTUxEuYz4E"
      },
      "execution_count": null,
      "outputs": []
    },
    {
      "cell_type": "code",
      "source": [
        "def str():\n",
        "  s = \"SHIVAM BABU JAISWAL\"\n",
        "  return (s)\n",
        "print(str)\n",
        "string=input(\"Enter a string:\")\n",
        "r=reverse_string(string1)\n",
        "print(r)\n"
      ],
      "metadata": {
        "colab": {
          "base_uri": "https://localhost:8080/"
        },
        "id": "6qMnzfYIY0G-",
        "outputId": "1d4f9e88-4eac-43d3-8cb3-08b6eabb5522"
      },
      "execution_count": null,
      "outputs": [
        {
          "output_type": "stream",
          "name": "stdout",
          "text": [
            "<function str at 0x7c891999cf70>\n",
            "Enter a string:SHIVAM BABU JAISWAL\n",
            "LAWSIAJ UBAB MAVIHS\n"
          ]
        }
      ]
    },
    {
      "cell_type": "code",
      "source": [
        "#Question3: Implement a python function that takes a list of integers and returns a new list connecting the squares of each number."
      ],
      "metadata": {
        "id": "ie1IgEKjhoWD"
      },
      "execution_count": null,
      "outputs": []
    },
    {
      "cell_type": "code",
      "source": [
        "# Create a list of integers named 'nums'\n",
        "nums = [1, 2, 3, 4, 5, 6, 7, 8, 9, 10]\n",
        "\n",
        "# Display a message indicating that the following output will show the original list of integers\n",
        "print(\"Original list of integers:\")\n",
        "print(nums)\n",
        "\n",
        "# Display a message indicating that the following output will show each number in the list squared\n",
        "print(\"\\nSquare every number of the said list:\")\n",
        "\n",
        "# Use the 'map()' function with a lambda function to square each number in the 'nums' list\n",
        "# Create a new list 'square_nums' containing the squared values of the original list\n",
        "square_nums = list(map(lambda x: x ** 2, nums))\n",
        "print(square_nums)"
      ],
      "metadata": {
        "colab": {
          "base_uri": "https://localhost:8080/"
        },
        "id": "nh49_q1LhfvM",
        "outputId": "2c6a31c6-8aed-437b-fb28-469e6cdbbd31"
      },
      "execution_count": null,
      "outputs": [
        {
          "output_type": "stream",
          "name": "stdout",
          "text": [
            "Original list of integers:\n",
            "[1, 2, 3, 4, 5, 6, 7, 8, 9, 10]\n",
            "\n",
            "Square every number of the said list:\n",
            "[1, 4, 9, 16, 25, 36, 49, 64, 81, 100]\n"
          ]
        }
      ]
    },
    {
      "cell_type": "code",
      "source": [
        "#Question4: Write a Python function that check if a given number is prime or not from 1 to 200."
      ],
      "metadata": {
        "id": "e36evbeskeyj"
      },
      "execution_count": null,
      "outputs": []
    },
    {
      "cell_type": "code",
      "source": [
        "num = 11\n",
        "# Negative numbers, 0 and 1 are not primes\n",
        "if num > 1:\n",
        "\n",
        "    # Iterate from 2 to n // 2\n",
        "    for i in range(2, (num//2)+1):\n",
        "\n",
        "        # If num is divisible by any number between\n",
        "        # 2 and n / 2, it is not prime\n",
        "        if (num % i) == 0:\n",
        "            print(num, \"is not a prime number\")\n",
        "            break\n",
        "    else:\n",
        "        print(num, \"is a prime number\")\n",
        "else:\n",
        "    print(num, \"is not a prime number\")"
      ],
      "metadata": {
        "colab": {
          "base_uri": "https://localhost:8080/"
        },
        "id": "c1yB6M5omE94",
        "outputId": "c9f8a410-01fe-4473-d80e-2a028e771b18"
      },
      "execution_count": null,
      "outputs": [
        {
          "output_type": "stream",
          "name": "stdout",
          "text": [
            "11 is a prime number\n"
          ]
        }
      ]
    },
    {
      "cell_type": "code",
      "source": [
        "#Question5: Create an iterator class in Python that generates the Fibonacci sequence of to specified number of terms."
      ],
      "metadata": {
        "id": "jP8cAI-Xhfjf"
      },
      "execution_count": null,
      "outputs": []
    },
    {
      "cell_type": "code",
      "source": [
        "#defining function to return list of fibonacci elements\n",
        "def fibonacci(n):\n",
        "\n",
        "    l = [0,1]\n",
        "    for i in range(2,n):\n",
        "        l.append(l[-1]+l[-2])\n",
        "    return l\n",
        "\n",
        "#Main function\n",
        "if __name__ == \"__main__\":\n",
        "   #defining the total number of elements\n",
        "    n = 10\n",
        "\n",
        "    #calling of function\n",
        "    fibo = fibonacci(n)\n",
        "\n",
        "    #displaying the function\n",
        "    print(\"Fibonacci Series: \",*fibo)"
      ],
      "metadata": {
        "colab": {
          "base_uri": "https://localhost:8080/"
        },
        "id": "BGfBzpBXhfUw",
        "outputId": "0728b578-e81c-4a20-ad74-cad31cfbaa51"
      },
      "execution_count": null,
      "outputs": [
        {
          "output_type": "stream",
          "name": "stdout",
          "text": [
            "Fibonacci Series:  0 1 1 2 3 5 8 13 21 34\n"
          ]
        }
      ]
    },
    {
      "cell_type": "code",
      "source": [
        "#Question6: Write a generator function in python that yield in the power of 2 up to a given exponent."
      ],
      "metadata": {
        "id": "K73F0R2LhfEE"
      },
      "execution_count": null,
      "outputs": []
    },
    {
      "cell_type": "code",
      "source": [
        "def power_generator(exponent):\n",
        "  result = 2\n",
        "  for i in range(exponent + 1):\n",
        "    yield result\n",
        "    result *= exponent\n",
        "exponent = int(input(\"Input the exponent: \"))\n",
        "power_gen = power_generator(exponent)\n",
        "print(f\"Power of{exponent}:\")\n",
        "for power in power_gen:\n",
        "  print(power)"
      ],
      "metadata": {
        "colab": {
          "base_uri": "https://localhost:8080/"
        },
        "id": "iTRXUkGHhez2",
        "outputId": "190fedc8-f8d5-449d-cf12-7fd411bd80e6"
      },
      "execution_count": null,
      "outputs": [
        {
          "output_type": "stream",
          "name": "stdout",
          "text": [
            "Input the exponent: 2\n",
            "Power of2:\n",
            "2\n",
            "4\n",
            "8\n"
          ]
        }
      ]
    },
    {
      "cell_type": "code",
      "source": [
        "#Question7: Implement a generator function that reads a file line by line and yields each line as a string."
      ],
      "metadata": {
        "id": "BK55BEz5heSc"
      },
      "execution_count": null,
      "outputs": []
    },
    {
      "cell_type": "code",
      "source": [
        "L = [\"AJAY\\n\", \"KUMAR\\n\", \"GUPTA\\n\"]\n",
        "\n",
        "# writing to file\n",
        "file1 = open('myfile.txt', 'w')\n",
        "file1.writelines(L)\n",
        "file1.close()\n",
        "\n",
        "# Using readlines()\n",
        "file1 = open('myfile.txt', 'r')\n",
        "Lines = file1.readlines()\n",
        "\n",
        "count = 0\n",
        "# Strips the newline character\n",
        "for line in Lines:\n",
        "    count += 1\n",
        "    print(\"Line{}: {}\".format(count, line.strip()))"
      ],
      "metadata": {
        "colab": {
          "base_uri": "https://localhost:8080/"
        },
        "id": "pc9RwU0f4tsc",
        "outputId": "c1692d15-70de-4621-faf6-4756aba0cb35"
      },
      "execution_count": null,
      "outputs": [
        {
          "output_type": "stream",
          "name": "stdout",
          "text": [
            "Line1: AJAY\n",
            "Line2: KUMAR\n",
            "Line3: GUPTA\n"
          ]
        }
      ]
    },
    {
      "cell_type": "code",
      "source": [
        "#Question8: Use of lambda function in python to sort a list of tuple based on the second element of each tuple."
      ],
      "metadata": {
        "id": "YFnQc5V44tbn"
      },
      "execution_count": null,
      "outputs": []
    },
    {
      "cell_type": "code",
      "source": [
        "\n",
        "# Create a list of tuples named 'subject_marks', each tuple containing a subject and its corresponding marks\n",
        "subject_marks = [('English', 88), ('Science', 90), ('Maths', 97), ('Social sciences', 82)]\n",
        "\n",
        "# Display the original list of tuples to the console\n",
        "print(\"Original list of tuples:\")\n",
        "print(subject_marks)\n",
        "\n",
        "# Sort the 'subject_marks' list of tuples based on the second element of each tuple (the marks),\n",
        "# using a lambda function as the sorting key to extract the second element\n",
        "subject_marks.sort(key=lambda x: x[1])\n",
        "\n",
        "# Display the sorted list of tuples to the console\n",
        "print(\"\\nSorting the List of Tuples:\")\n",
        "print(subject_marks)"
      ],
      "metadata": {
        "id": "QbvYZVlS4s_-",
        "colab": {
          "base_uri": "https://localhost:8080/"
        },
        "outputId": "366954dd-d7c4-4c23-e280-670a9b61e2b1"
      },
      "execution_count": null,
      "outputs": [
        {
          "output_type": "stream",
          "name": "stdout",
          "text": [
            "Original list of tuples:\n",
            "[('English', 88), ('Science', 90), ('Maths', 97), ('Social sciences', 82)]\n",
            "\n",
            "Sorting the List of Tuples:\n",
            "[('Social sciences', 82), ('English', 88), ('Science', 90), ('Maths', 97)]\n"
          ]
        }
      ]
    },
    {
      "cell_type": "code",
      "source": [
        "#Question9: Write a Python program that uses map() to convert a list of temperatures from Celsius to fahrenheit."
      ],
      "metadata": {
        "id": "9aH78ArR4s8J"
      },
      "execution_count": null,
      "outputs": []
    },
    {
      "cell_type": "code",
      "source": [
        "\n",
        "celsius = float(input(\"Enter temperature\\\n",
        "in celsius: \"))\n",
        "\n",
        "fahrenheit = (celsius * 1.8) + 32\n",
        "\n",
        "print(str(celsius )+ \" degree Celsius\\\n",
        "is equal to \" + str(fahrenheit )+\n",
        "       \" degree Fahrenheit.\")"
      ],
      "metadata": {
        "id": "daGQsnOA4s4T",
        "colab": {
          "base_uri": "https://localhost:8080/"
        },
        "outputId": "e9d0aff8-d864-4ad8-a9ed-eafd2e02dfa2"
      },
      "execution_count": null,
      "outputs": [
        {
          "output_type": "stream",
          "name": "stdout",
          "text": [
            "Enter temperaturein celsius: 40\n",
            "40.0 degree Celsiusis equal to 104.0 degree Fahrenheit.\n"
          ]
        }
      ]
    },
    {
      "cell_type": "code",
      "source": [
        "#Question10: Create a python program that uses filter() to remove all the vowels from a given string."
      ],
      "metadata": {
        "id": "UUnr0i1b4srC"
      },
      "execution_count": null,
      "outputs": []
    },
    {
      "cell_type": "code",
      "source": [
        "\n",
        "# Python program to remove vowels from a string\n",
        "# Function to remove vowels\n",
        "def rem_vowel(string):\n",
        "    vowels = ['a','e','i','o','u']\n",
        "    result = [letter for letter in string if letter.lower() not in vowels]\n",
        "    result = ''.join(result)\n",
        "    print(result)\n",
        "\n",
        "# Driver program\n",
        "string = \"My name is Sanket Vishwakarma and I am twentythree year old.\"\n",
        "rem_vowel(string)\n",
        "string = \"Loving Python LOL\"\n",
        "rem_vowel(string)"
      ],
      "metadata": {
        "id": "g4_fHeDZ4sZL",
        "colab": {
          "base_uri": "https://localhost:8080/"
        },
        "outputId": "128183ff-58ce-48cb-cb8c-20447bf9a255"
      },
      "execution_count": null,
      "outputs": [
        {
          "output_type": "stream",
          "name": "stdout",
          "text": [
            "My nm s Snkt Vshwkrm nd  m twntythr yr ld.\n",
            "Lvng Pythn LL\n"
          ]
        }
      ]
    }
  ]
}